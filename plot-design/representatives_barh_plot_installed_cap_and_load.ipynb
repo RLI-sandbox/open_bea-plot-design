{
 "cells": [
  {
   "cell_type": "code",
   "execution_count": 1,
   "id": "4d313e75-f4a4-485b-9096-7fc55273a01a",
   "metadata": {},
   "outputs": [],
   "source": [
    "# import python packages\n",
    "import os  # This module provides a portable way of using operating system dependent functionality.\n",
    "import pandas as pd  # pandas is a fast, powerful, flexible and easy to use open source data analysis and manipulation tool."
   ]
  },
  {
   "cell_type": "code",
   "execution_count": 2,
   "id": "13b4491b-d18d-4575-bb14-c2a1c827a9e2",
   "metadata": {},
   "outputs": [],
   "source": [
    "# data directories\n",
    "base_dir = r\"/home/kilian/rli/Daten_flexibel_02/simbev_results/calculations_for_anya_02/eDisGo_object_files/simbev_nep_2035_results\"\n",
    "\n",
    "grid_ids = [176, 177, 1056, 1690, 1811, 2534]\n",
    "\n",
    "sub_dir = \"dumb\"\n",
    "sub_sub_dir_01 = \"topology/generators.csv\"\n",
    "sub_sub_dir_02 = \"timeseries/loads_active_power.csv\"\n",
    "sub_sub_dir_03 = \"timeseries/charging_points_active_power.csv\""
   ]
  },
  {
   "cell_type": "code",
   "execution_count": 3,
   "id": "54410a1b-222a-48c6-a01a-34b5331d41f8",
   "metadata": {},
   "outputs": [
    {
     "name": "stdout",
     "output_type": "stream",
     "text": [
      "176\n",
      "177\n",
      "1056\n",
      "1690\n",
      "1811\n",
      "2534\n"
     ]
    }
   ],
   "source": [
    "# pre-build results DataFrame\n",
    "columns=[\"PV-Kapazitäten\", \"Wind-Kapazitäten\", \"Sonstige Erzeuger-Kapazitäten\", \"Konventionelle Spitzenlast\", \"Spitzenlast E-Pkw\"]\n",
    "results_df = pd.DataFrame(\n",
    "    data=0, columns=columns, index=grid_ids)\n",
    "\n",
    "# example on how to read in data with Pandas\n",
    "generators_df = pd.read_csv(\n",
    "    os.path.join(base_dir, str(grid_ids[0]), sub_dir, sub_sub_dir_01), index_col=[0])\n",
    "\n",
    "# TODO: build a for-loop to fill the results data_frame\n",
    "for grid_id in grid_ids:\n",
    "    print(str(grid_id))"
   ]
  },
  {
   "cell_type": "code",
   "execution_count": 4,
   "id": "188751f1-36c9-4db0-a729-bb24c32ce8ae",
   "metadata": {},
   "outputs": [
    {
     "data": {
      "text/html": [
       "<div>\n",
       "<style scoped>\n",
       "    .dataframe tbody tr th:only-of-type {\n",
       "        vertical-align: middle;\n",
       "    }\n",
       "\n",
       "    .dataframe tbody tr th {\n",
       "        vertical-align: top;\n",
       "    }\n",
       "\n",
       "    .dataframe thead th {\n",
       "        text-align: right;\n",
       "    }\n",
       "</style>\n",
       "<table border=\"1\" class=\"dataframe\">\n",
       "  <thead>\n",
       "    <tr style=\"text-align: right;\">\n",
       "      <th></th>\n",
       "      <th>bus</th>\n",
       "      <th>control</th>\n",
       "      <th>id</th>\n",
       "      <th>p_nom</th>\n",
       "      <th>subtype</th>\n",
       "      <th>type</th>\n",
       "      <th>weather_cell_id</th>\n",
       "    </tr>\n",
       "  </thead>\n",
       "  <tbody>\n",
       "    <tr>\n",
       "      <th>Generator_mvgd_176_biomass_39327</th>\n",
       "      <td>Bus_mvgd_176_gen_39327</td>\n",
       "      <td>PQ</td>\n",
       "      <td>39327.0</td>\n",
       "      <td>4.084125</td>\n",
       "      <td>biomass</td>\n",
       "      <td>biomass</td>\n",
       "      <td>NaN</td>\n",
       "    </tr>\n",
       "    <tr>\n",
       "      <th>Generator_mvgd_176_biogas_42212</th>\n",
       "      <td>Bus_mvgd_176_gen_42212</td>\n",
       "      <td>PQ</td>\n",
       "      <td>42212.0</td>\n",
       "      <td>2.069605</td>\n",
       "      <td>biogas</td>\n",
       "      <td>biomass</td>\n",
       "      <td>NaN</td>\n",
       "    </tr>\n",
       "    <tr>\n",
       "      <th>Generator_mvgd_176_solar_roof_mounted_42471</th>\n",
       "      <td>Bus_mvgd_176_gen_42471</td>\n",
       "      <td>PQ</td>\n",
       "      <td>42471.0</td>\n",
       "      <td>0.316000</td>\n",
       "      <td>solar_roof_mounted</td>\n",
       "      <td>solar</td>\n",
       "      <td>1124076.0</td>\n",
       "    </tr>\n",
       "    <tr>\n",
       "      <th>Generator_mvgd_176_solar_roof_mounted_42476</th>\n",
       "      <td>Bus_mvgd_176_gen_42476</td>\n",
       "      <td>PQ</td>\n",
       "      <td>42476.0</td>\n",
       "      <td>0.322000</td>\n",
       "      <td>solar_roof_mounted</td>\n",
       "      <td>solar</td>\n",
       "      <td>1124076.0</td>\n",
       "    </tr>\n",
       "    <tr>\n",
       "      <th>Generator_mvgd_176_wind_onshore_44764</th>\n",
       "      <td>Bus_mvgd_176_gen_44764</td>\n",
       "      <td>PQ</td>\n",
       "      <td>44764.0</td>\n",
       "      <td>0.800000</td>\n",
       "      <td>wind_onshore</td>\n",
       "      <td>wind</td>\n",
       "      <td>1124076.0</td>\n",
       "    </tr>\n",
       "  </tbody>\n",
       "</table>\n",
       "</div>"
      ],
      "text/plain": [
       "                                                                bus control  \\\n",
       "Generator_mvgd_176_biomass_39327             Bus_mvgd_176_gen_39327      PQ   \n",
       "Generator_mvgd_176_biogas_42212              Bus_mvgd_176_gen_42212      PQ   \n",
       "Generator_mvgd_176_solar_roof_mounted_42471  Bus_mvgd_176_gen_42471      PQ   \n",
       "Generator_mvgd_176_solar_roof_mounted_42476  Bus_mvgd_176_gen_42476      PQ   \n",
       "Generator_mvgd_176_wind_onshore_44764        Bus_mvgd_176_gen_44764      PQ   \n",
       "\n",
       "                                                  id     p_nom  \\\n",
       "Generator_mvgd_176_biomass_39327             39327.0  4.084125   \n",
       "Generator_mvgd_176_biogas_42212              42212.0  2.069605   \n",
       "Generator_mvgd_176_solar_roof_mounted_42471  42471.0  0.316000   \n",
       "Generator_mvgd_176_solar_roof_mounted_42476  42476.0  0.322000   \n",
       "Generator_mvgd_176_wind_onshore_44764        44764.0  0.800000   \n",
       "\n",
       "                                                        subtype     type  \\\n",
       "Generator_mvgd_176_biomass_39327                        biomass  biomass   \n",
       "Generator_mvgd_176_biogas_42212                          biogas  biomass   \n",
       "Generator_mvgd_176_solar_roof_mounted_42471  solar_roof_mounted    solar   \n",
       "Generator_mvgd_176_solar_roof_mounted_42476  solar_roof_mounted    solar   \n",
       "Generator_mvgd_176_wind_onshore_44764              wind_onshore     wind   \n",
       "\n",
       "                                             weather_cell_id  \n",
       "Generator_mvgd_176_biomass_39327                         NaN  \n",
       "Generator_mvgd_176_biogas_42212                          NaN  \n",
       "Generator_mvgd_176_solar_roof_mounted_42471        1124076.0  \n",
       "Generator_mvgd_176_solar_roof_mounted_42476        1124076.0  \n",
       "Generator_mvgd_176_wind_onshore_44764              1124076.0  "
      ]
     },
     "execution_count": 4,
     "metadata": {},
     "output_type": "execute_result"
    }
   ],
   "source": [
    "generators_df.head()"
   ]
  },
  {
   "cell_type": "code",
   "execution_count": 5,
   "id": "b96f93d4-796f-4a4f-9b13-ce9e6f06d6a7",
   "metadata": {},
   "outputs": [
    {
     "data": {
      "text/plain": [
       "array(['biomass', 'solar', 'wind', 'run_of_river', nan], dtype=object)"
      ]
     },
     "execution_count": 5,
     "metadata": {},
     "output_type": "execute_result"
    }
   ],
   "source": [
    "generators_df.type.unique()"
   ]
  },
  {
   "cell_type": "code",
   "execution_count": null,
   "id": "0756c34b-48c8-4591-93af-0f7f1d8a2588",
   "metadata": {},
   "outputs": [],
   "source": [
    "# TODO: build a stacked bar plot like this: https://github.com/MA-KH-RLI/tex-MA-RLI/blob/main/TeX/Bilder/Installed_cap_peak_load_representatives.pdf\n",
    "# Pandas comes with a buildin function therefor https://pandas.pydata.org/pandas-docs/stable/reference/api/pandas.DataFrame.plot.barh.html"
   ]
  }
 ],
 "metadata": {
  "kernelspec": {
   "display_name": "Python 3",
   "language": "python",
   "name": "python3"
  },
  "language_info": {
   "codemirror_mode": {
    "name": "ipython",
    "version": 3
   },
   "file_extension": ".py",
   "mimetype": "text/x-python",
   "name": "python",
   "nbconvert_exporter": "python",
   "pygments_lexer": "ipython3",
   "version": "3.6.13"
  }
 },
 "nbformat": 4,
 "nbformat_minor": 5
}
