{
 "cells": [
  {
   "cell_type": "code",
   "execution_count": 1,
   "id": "11c0063e-0d7e-4c5e-a628-c30584072cc4",
   "metadata": {},
   "outputs": [],
   "source": [
    "import os\n",
    "import numpy as np\n",
    "import pandas as pd\n",
    "\n",
    "from pathlib import Path\n",
    "from tqdm import tqdm"
   ]
  },
  {
   "cell_type": "code",
   "execution_count": 2,
   "id": "5ea23c08-e47e-4429-99e1-aba97e94dbf0",
   "metadata": {},
   "outputs": [],
   "source": [
    "base_dir = (\"/home/kilian/rli/PC50/storage/open_bea_calculations_v4\"\n",
    "            \"/edisgo_files/{}/ego100/dumb/timeseries\")\n",
    "\n",
    "topo_path = (\"/home/kilian/rli/PC50/storage/open_bea_calculations_v4\"\n",
    "             \"/edisgo_files/{}/ego100/dumb/topology/generators.csv\")\n",
    "\n",
    "f_load = \"loads_active_power.csv\"\n",
    "f_cps = \"charging_points_active_power.csv\"\n",
    "\n",
    "grid_ids = [176, 177, 1056, 1690, 1811, 2534]\n",
    "\n",
    "f_result = \"ev_peak_load_and_gen_per_grid.csv\""
   ]
  },
  {
   "cell_type": "code",
   "execution_count": 3,
   "id": "abb4aa7f-b0e4-458d-b3e9-e11e9a9aa770",
   "metadata": {},
   "outputs": [],
   "source": [
    "def read_csv_with_dtype(path, dtype=\"float32\"):\n",
    "    head = pd.read_csv(\n",
    "        path, index_col=0, nrows=0)\n",
    "\n",
    "    dtypes = {col: dtype for col in head.columns}\n",
    "    \n",
    "    return pd.read_csv(\n",
    "        path, index_col=0, parse_dates=True, dtype=dtypes)"
   ]
  },
  {
   "cell_type": "code",
   "execution_count": 4,
   "id": "2ad916fa-230f-49f9-840e-682fbb038d93",
   "metadata": {},
   "outputs": [],
   "source": [
    "try:\n",
    "    results_df = pd.read_csv(\n",
    "        f_result, index_col=0)\n",
    "except:\n",
    "    columns = [\"solar_cap\", \"wind_cap\", \"other_cap\", \"peak_load\", \"ev_peak_load\"]\n",
    "\n",
    "    results_df = pd.DataFrame(\n",
    "        data=0., index=grid_ids, columns=columns)\n",
    "\n",
    "    for grid_id in tqdm(grid_ids):\n",
    "        topo_dir = topo_path.format(grid_id)\n",
    "        grid_dir = base_dir.format(grid_id)\n",
    "\n",
    "        topo_df = pd.read_csv(\n",
    "            topo_dir, index_col=0)\n",
    "\n",
    "        solar_cap = topo_df.loc[\n",
    "            topo_df.type == \"solar\"].p_nom.sum()\n",
    "\n",
    "        wind_cap = topo_df.loc[\n",
    "            topo_df.type == \"wind\"].p_nom.sum()\n",
    "\n",
    "        other_cap = topo_df.loc[\n",
    "            ~topo_df.type.isin([\"solar\", \"wind\"])].p_nom.sum()\n",
    "\n",
    "        peak_load = read_csv_with_dtype(os.path.join(\n",
    "            grid_dir, f_load)).sum(axis=1).max()\n",
    "\n",
    "        ev_peak_load = read_csv_with_dtype(os.path.join(\n",
    "            grid_dir, f_cps)).sum(axis=1).max()\n",
    "\n",
    "        results_df.loc[grid_id] = [\n",
    "            solar_cap, wind_cap, other_cap, -peak_load, -ev_peak_load]\n",
    "    \n",
    "    results_df.to_csv(f_result)"
   ]
  },
  {
   "cell_type": "code",
   "execution_count": 5,
   "id": "af783df3-50e2-4d8a-8ef9-963b0ee936df",
   "metadata": {},
   "outputs": [
    {
     "data": {
      "text/html": [
       "<div>\n",
       "<style scoped>\n",
       "    .dataframe tbody tr th:only-of-type {\n",
       "        vertical-align: middle;\n",
       "    }\n",
       "\n",
       "    .dataframe tbody tr th {\n",
       "        vertical-align: top;\n",
       "    }\n",
       "\n",
       "    .dataframe thead th {\n",
       "        text-align: right;\n",
       "    }\n",
       "</style>\n",
       "<table border=\"1\" class=\"dataframe\">\n",
       "  <thead>\n",
       "    <tr style=\"text-align: right;\">\n",
       "      <th></th>\n",
       "      <th>solar_cap</th>\n",
       "      <th>wind_cap</th>\n",
       "      <th>other_cap</th>\n",
       "      <th>peak_load</th>\n",
       "      <th>ev_peak_load</th>\n",
       "    </tr>\n",
       "  </thead>\n",
       "  <tbody>\n",
       "    <tr>\n",
       "      <th>176</th>\n",
       "      <td>60.637955</td>\n",
       "      <td>6.277</td>\n",
       "      <td>15.435898</td>\n",
       "      <td>-36.591061</td>\n",
       "      <td>-6.799198</td>\n",
       "    </tr>\n",
       "    <tr>\n",
       "      <th>177</th>\n",
       "      <td>23.581556</td>\n",
       "      <td>0.000</td>\n",
       "      <td>0.491826</td>\n",
       "      <td>-47.930820</td>\n",
       "      <td>-6.605006</td>\n",
       "    </tr>\n",
       "    <tr>\n",
       "      <th>1056</th>\n",
       "      <td>99.174842</td>\n",
       "      <td>8.311</td>\n",
       "      <td>2.741945</td>\n",
       "      <td>-12.126625</td>\n",
       "      <td>-2.754598</td>\n",
       "    </tr>\n",
       "    <tr>\n",
       "      <th>1690</th>\n",
       "      <td>38.388070</td>\n",
       "      <td>138.173</td>\n",
       "      <td>50.052170</td>\n",
       "      <td>-12.956071</td>\n",
       "      <td>-3.141198</td>\n",
       "    </tr>\n",
       "    <tr>\n",
       "      <th>1811</th>\n",
       "      <td>23.614780</td>\n",
       "      <td>125.350</td>\n",
       "      <td>26.487895</td>\n",
       "      <td>-14.373480</td>\n",
       "      <td>-3.801897</td>\n",
       "    </tr>\n",
       "    <tr>\n",
       "      <th>2534</th>\n",
       "      <td>17.994794</td>\n",
       "      <td>0.000</td>\n",
       "      <td>0.000000</td>\n",
       "      <td>-62.125603</td>\n",
       "      <td>-3.966099</td>\n",
       "    </tr>\n",
       "  </tbody>\n",
       "</table>\n",
       "</div>"
      ],
      "text/plain": [
       "      solar_cap  wind_cap  other_cap  peak_load  ev_peak_load\n",
       "176   60.637955     6.277  15.435898 -36.591061     -6.799198\n",
       "177   23.581556     0.000   0.491826 -47.930820     -6.605006\n",
       "1056  99.174842     8.311   2.741945 -12.126625     -2.754598\n",
       "1690  38.388070   138.173  50.052170 -12.956071     -3.141198\n",
       "1811  23.614780   125.350  26.487895 -14.373480     -3.801897\n",
       "2534  17.994794     0.000   0.000000 -62.125603     -3.966099"
      ]
     },
     "execution_count": 5,
     "metadata": {},
     "output_type": "execute_result"
    }
   ],
   "source": [
    "results_df"
   ]
  },
  {
   "cell_type": "markdown",
   "id": "d1c5830b-457f-4266-b341-8c0a33523b3d",
   "metadata": {},
   "source": [
    "# Plots"
   ]
  },
  {
   "cell_type": "code",
   "execution_count": 6,
   "id": "3f7c629b-57e2-4d27-a5be-84d089aea14b",
   "metadata": {},
   "outputs": [],
   "source": [
    "import matplotlib as mpl\n",
    "import seaborn as sns\n",
    "# SSL to load seaborn example data\n",
    "import ssl\n",
    "ssl._create_default_https_context = ssl._create_unverified_context\n",
    "# Locale settings\n",
    "import locale\n",
    "# Set to German locale to get comma decimal seperator\n",
    "# Check with \"locale -a\" if \"de_DE.utf8\" is installed on your system\n",
    "# Installation guide: https://ubuntuforums.org/showthread.php?t=196414\n",
    "locale.setlocale(locale.LC_NUMERIC, \"de_DE.utf8\")\n",
    "\n",
    "from matplotlib import pyplot as plt\n",
    "from matplotlib import rcParams\n",
    "from matplotlib.colors import rgb2hex\n",
    "\n",
    "# Tell matplotlib to use the locale\n",
    "plt.rcParams['axes.formatter.use_locale'] = True"
   ]
  },
  {
   "cell_type": "code",
   "execution_count": 7,
   "id": "ac4461a7-6577-4e8d-adc6-40bc434be73b",
   "metadata": {},
   "outputs": [],
   "source": [
    "def RGB_to_hex(red, green, blue):\n",
    "    \"\"\"Return color as #rrggbb for the given color values.\"\"\"\n",
    "    return '#%02x%02x%02x' % (red, green, blue)"
   ]
  },
  {
   "cell_type": "code",
   "execution_count": 8,
   "id": "efadb6cc-b787-41b0-837e-08cb4d7c63a6",
   "metadata": {},
   "outputs": [
    {
     "data": {
      "text/html": [
       "<svg  width=\"550\" height=\"55\"><rect x=\"0\" y=\"0\" width=\"55\" height=\"55\" style=\"fill:#0173b2;stroke-width:2;stroke:rgb(255,255,255)\"/><rect x=\"55\" y=\"0\" width=\"55\" height=\"55\" style=\"fill:#de8f05;stroke-width:2;stroke:rgb(255,255,255)\"/><rect x=\"110\" y=\"0\" width=\"55\" height=\"55\" style=\"fill:#029e73;stroke-width:2;stroke:rgb(255,255,255)\"/><rect x=\"165\" y=\"0\" width=\"55\" height=\"55\" style=\"fill:#d55e00;stroke-width:2;stroke:rgb(255,255,255)\"/><rect x=\"220\" y=\"0\" width=\"55\" height=\"55\" style=\"fill:#cc78bc;stroke-width:2;stroke:rgb(255,255,255)\"/><rect x=\"275\" y=\"0\" width=\"55\" height=\"55\" style=\"fill:#ca9161;stroke-width:2;stroke:rgb(255,255,255)\"/><rect x=\"330\" y=\"0\" width=\"55\" height=\"55\" style=\"fill:#fbafe4;stroke-width:2;stroke:rgb(255,255,255)\"/><rect x=\"385\" y=\"0\" width=\"55\" height=\"55\" style=\"fill:#949494;stroke-width:2;stroke:rgb(255,255,255)\"/><rect x=\"440\" y=\"0\" width=\"55\" height=\"55\" style=\"fill:#ece133;stroke-width:2;stroke:rgb(255,255,255)\"/><rect x=\"495\" y=\"0\" width=\"55\" height=\"55\" style=\"fill:#56b4e9;stroke-width:2;stroke:rgb(255,255,255)\"/></svg>"
      ],
      "text/plain": [
       "[(0.00392156862745098, 0.45098039215686275, 0.6980392156862745),\n",
       " (0.8705882352941177, 0.5607843137254902, 0.0196078431372549),\n",
       " (0.00784313725490196, 0.6196078431372549, 0.45098039215686275),\n",
       " (0.8352941176470589, 0.3686274509803922, 0.0),\n",
       " (0.8, 0.47058823529411764, 0.7372549019607844),\n",
       " (0.792156862745098, 0.5686274509803921, 0.3803921568627451),\n",
       " (0.984313725490196, 0.6862745098039216, 0.8941176470588236),\n",
       " (0.5803921568627451, 0.5803921568627451, 0.5803921568627451),\n",
       " (0.9254901960784314, 0.8823529411764706, 0.2),\n",
       " (0.33725490196078434, 0.7058823529411765, 0.9137254901960784)]"
      ]
     },
     "execution_count": 8,
     "metadata": {},
     "output_type": "execute_result"
    }
   ],
   "source": [
    "# Plot parameters\n",
    "# Style\n",
    "style = \"whitegrid\"\n",
    "# Figure sizes\n",
    "standard_sizes = {\n",
    "    \"a4portrait\": (8.27, 11.69),\n",
    "    \"a4landscape\": (11.69, 8.27),\n",
    "    \"a5portrait\": (5.8, 8.3),\n",
    "    \"a5landscape\": (8.3, 5.8),\n",
    "}\n",
    "# Font parameters\n",
    "font = \"Latin Modern Roman\"\n",
    "font_scale = 1.5\n",
    "# Figure aesthetics\n",
    "grid_linestyle = \"--\"\n",
    "yticks = True\n",
    "xticks = True\n",
    "# Colors\n",
    "palette = sns.color_palette(\"colorblind\")\n",
    "\n",
    "rgb_grid = (200, 200, 200)\n",
    "rgb_labels = (0, 0, 0)\n",
    "\n",
    "hex_grid = RGB_to_hex(*rgb_grid)\n",
    "hex_labels = RGB_to_hex(*rgb_labels)\n",
    "\n",
    "palette"
   ]
  },
  {
   "cell_type": "code",
   "execution_count": 9,
   "id": "dc9524c6-2a08-4b35-90c4-3a8d3a38ce00",
   "metadata": {},
   "outputs": [],
   "source": [
    "# Set seaborn parameters\n",
    "rc_theme = {\n",
    "    \"grid.linestyle\":grid_linestyle,\n",
    "    \"ytick.left\":yticks,\n",
    "    \"xtick.bottom\":xticks,\n",
    "    \"ytick.color\":hex_grid,\n",
    "    \"ytick.labelcolor\":hex_labels,\n",
    "    \"xtick.color\":hex_grid,\n",
    "    \"xtick.labelcolor\":hex_labels,\n",
    "    \"grid.color\":hex_grid,\n",
    "}\n",
    "\n",
    "sns.set_theme(\n",
    "    style=style, font=font, font_scale=font_scale, palette=palette, rc=rc_theme)"
   ]
  },
  {
   "cell_type": "code",
   "execution_count": 10,
   "id": "ca68329e-1bc6-47eb-9299-4d03643d6ada",
   "metadata": {},
   "outputs": [],
   "source": [
    "figure_export_as = [\"png\", \"jpg\"]\n",
    "export_dir = \"/home/kilian/rli/rl-institut/05_Temp/Kilian/open_bea/plots_Abschlussbericht\"\n",
    "\n",
    "os.makedirs(export_dir, exist_ok=True)"
   ]
  },
  {
   "cell_type": "code",
   "execution_count": 11,
   "id": "133e0087-0a07-4023-b9ff-884c73dab5f7",
   "metadata": {},
   "outputs": [],
   "source": [
    "sorting_dict = {\n",
    "    176: 2,\n",
    "    177: 1,\n",
    "    1056: 3,\n",
    "    1690: 5,\n",
    "    1811: 4,\n",
    "    2534: 0}\n",
    "\n",
    "order = [\"wind_cap\", \"solar_cap\", \"other_cap\", \"peak_load\", \"ev_peak_load\"]"
   ]
  },
  {
   "cell_type": "code",
   "execution_count": 12,
   "id": "802e5f79-9d42-44e5-b9a8-3c4bb61e3369",
   "metadata": {},
   "outputs": [
    {
     "data": {
      "text/plain": [
       "{176: '$\\\\mathregular{176_{PV}}$',\n",
       " 177: '$\\\\mathregular{177_{L}}$',\n",
       " 1056: '$\\\\mathregular{1056_{PV}}$',\n",
       " 1690: '$\\\\mathregular{1690_{W}}$',\n",
       " 1811: '$\\\\mathregular{1811_{W}}$',\n",
       " 2534: '$\\\\mathregular{2534_{L}}$'}"
      ]
     },
     "execution_count": 12,
     "metadata": {},
     "output_type": "execute_result"
    }
   ],
   "source": [
    "kind_dict = {\n",
    "    176: \"PV\",\n",
    "    177: \"L\",\n",
    "    1056: \"PV\",\n",
    "    1690: \"W\",\n",
    "    1811: \"W\",\n",
    "    2534: \"L\"}\n",
    "\n",
    "naming_dict = {key: f\"$\\mathregular{{{key}_{{{kind_dict[key]}}}}}$\"\n",
    "               for key in results_df.index}\n",
    "naming_dict"
   ]
  },
  {
   "cell_type": "code",
   "execution_count": 13,
   "id": "66a8516e-ea5c-4a4c-9ddc-16d98184dae7",
   "metadata": {},
   "outputs": [],
   "source": [
    "new_labels = [\"Wind-Kapazitäten\", \"PV-Kapazitäten\", \"Sonst. EE-Kapazitäten\", \"Spitzenlast exkl. E-Mobilität\", \"Spitzenlast E-Mobilität\"]"
   ]
  },
  {
   "cell_type": "code",
   "execution_count": 14,
   "id": "32cf8699-b52a-44a8-b7ec-13b3b031ebe1",
   "metadata": {},
   "outputs": [
    {
     "data": {
      "image/png": "[encoded data removed]",
      "text/plain": [
       "<Figure size 597.6x417.6 with 1 Axes>"
      ]
     },
     "metadata": {},
     "output_type": "display_data"
    }
   ],
   "source": [
    "fig, ax = plt.subplots(figsize=standard_sizes[\"a5landscape\"])\n",
    "\n",
    "plt_df = results_df.sort_index(\n",
    "    key=lambda x: x.map(sorting_dict))[order]\n",
    "\n",
    "plt_df.plot(\n",
    "    kind=\"barh\", stacked=True, legend=True, ax=ax)\n",
    "\n",
    "# plt.legend(loc=\"upper left\", bbox_to_anchor=(1.0, 1.0))\n",
    "\n",
    "ax.set_xlabel(\"Leistung in MW\")\n",
    "ax.set_ylabel(\"Netz ID\")\n",
    "\n",
    "labels = [naming_dict[int(item.get_text())] for item in ax.get_yticklabels()]\n",
    "ax.set_yticklabels(labels)\n",
    "\n",
    "handles, labels = ax.get_legend_handles_labels()\n",
    "ax.legend(\n",
    "    handles=handles, labels=new_labels)\n",
    "\n",
    "# xlim = ax.get_xlim()\n",
    "# xlim = (xlim[0], xlim[1]*1.1)\n",
    "# ax.set_xlim(xlim)\n",
    "\n",
    "ax.set_ylim((-1, 5.5))\n",
    "\n",
    "plt.tight_layout()\n",
    "\n",
    "for kind in figure_export_as:\n",
    "    plt.savefig(\n",
    "        os.path.join(export_dir, f\"open_bea_grids_characteristics.{kind}\"),\n",
    "        dpi=450, bbox_inches=\"tight\")\n",
    "\n",
    "plt.show()"
   ]
  },
  {
   "cell_type": "code",
   "execution_count": null,
   "id": "827a0283-26d9-4566-ad6f-4b018c3685af",
   "metadata": {},
   "outputs": [],
   "source": []
  }
 ],
 "metadata": {
  "kernelspec": {
   "display_name": "Python 3 (ipykernel)",
   "language": "python",
   "name": "python3"
  },
  "language_info": {
   "codemirror_mode": {
    "name": "ipython",
    "version": 3
   },
   "file_extension": ".py",
   "mimetype": "text/x-python",
   "name": "python",
   "nbconvert_exporter": "python",
   "pygments_lexer": "ipython3",
   "version": "3.8.10"
  }
 },
 "nbformat": 4,
 "nbformat_minor": 5
}
